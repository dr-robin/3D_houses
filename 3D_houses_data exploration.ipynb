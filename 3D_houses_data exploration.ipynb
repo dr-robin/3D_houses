{
 "cells": [
  {
   "cell_type": "markdown",
   "metadata": {},
   "source": [
    "## Retrieve building coordinates"
   ]
  },
  {
   "cell_type": "code",
   "execution_count": 229,
   "metadata": {},
   "outputs": [
    {
     "data": {
      "text/plain": [
       "([{'coordinates': [[[156949.07425605506, 217250.54754476994],\n",
       "     [156945.3703200519, 217245.2103287652],\n",
       "     [156950.65044805408, 217241.68840876594],\n",
       "     [156946.04539205134, 217235.10498476028],\n",
       "     [156945.366096057, 217235.45480876043],\n",
       "     [156943.5702560544, 217232.89314475656],\n",
       "     [156947.74267205596, 217230.17224875465],\n",
       "     [156947.96820805222, 217230.38652075827],\n",
       "     [156951.59931205958, 217228.04092075303],\n",
       "     [156953.36366406083, 217230.5961847566],\n",
       "     [156952.82862406224, 217230.9778807573],\n",
       "     [156953.97972805798, 217232.65199275687],\n",
       "     [156956.4776480645, 217231.1953527555],\n",
       "     [156958.00993606448, 217233.64322475716],\n",
       "     [156959.8532640636, 217232.6118007563],\n",
       "     [156964.66363206506, 217239.9182967618],\n",
       "     [156959.2634400651, 217243.68482476473],\n",
       "     [156958.82542406023, 217243.06799276546],\n",
       "     [156955.34523206204, 217245.38888876513],\n",
       "     [156955.66433606297, 217245.81064876541],\n",
       "     [156949.07425605506, 217250.54754476994]]],\n",
       "   'type': 'Polygon'}],\n",
       " <shapely.geometry.polygon.Polygon at 0x7f4ff1de5ad0>,\n",
       " 0    POLYGON ((156949.074 217250.548, 156945.370 21...\n",
       " dtype: geometry,\n",
       " 0    230.405727\n",
       " dtype: float64)"
      ]
     },
     "execution_count": 229,
     "metadata": {},
     "output_type": "execute_result"
    }
   ],
   "source": [
    "def get_address():\n",
    "    \n",
    "    import requests\n",
    "    import geopandas\n",
    "    from geopandas import GeoSeries\n",
    "    from shapely.geometry import Polygon\n",
    "\n",
    "    #Ask for user to input address\n",
    "    #address = input(\"Enter Street:\")\n",
    "    \n",
    "    #Example address\n",
    "    #Eugeen de Bocklaan 14, 2900 Schoten\n",
    "    street = 'Eugeen de bocklaan'\n",
    "    nb = 14\n",
    "    pc = 2900\n",
    "    city = 'Schoten'\n",
    "    \n",
    "    global building_address\n",
    "    building_address = street + str(nb) + city + str(pc)\n",
    "    #Retrieve objectID for users address\n",
    "    req = requests.get(f\"https://api.basisregisters.dev-vlaanderen.be/v1/adresmatch?gemeentenaam={city}&straatnaam={street}&huisnummer={nb}&postcode={pc}\").json()\n",
    "    \n",
    "    #if r.status_code is:\n",
    "    #   continue\n",
    "    #else: print(\"Please try again\")\n",
    "    \n",
    "    objectId = req[\"adresMatches\"][0][\"adresseerbareObjecten\"][0][\"objectId\"]\n",
    "    \n",
    "    #Get building geometry\n",
    "    req = requests.get(f\"https://api.basisregisters.dev-vlaanderen.be/v1/gebouweenheden/{objectId}\").json()\n",
    "\n",
    "    objectId = req[\"gebouw\"][\"objectId\"]\n",
    "\n",
    "    req = requests.get(f\"https://api.basisregisters.dev-vlaanderen.be/v1/gebouwen/{objectId}\").json()\n",
    "\n",
    "    #Get building polygon coordinates\n",
    "    global polygon\n",
    "    polygon = [req[\"geometriePolygoon\"][\"polygon\"]]\n",
    "    \n",
    "    #Convert polygon to more useful geopanda series\n",
    "    t = []\n",
    "    \n",
    "    for i in polygon[0]['coordinates'][0]:\n",
    "        t.append(tuple(i))\n",
    "    \n",
    "    global p\n",
    "    p = Polygon(t)\n",
    "    \n",
    "    global g\n",
    "    g = GeoSeries([p])\n",
    "    \n",
    "    global a\n",
    "    #Area of the building\n",
    "    a = g.area\n",
    "\n",
    "    return polygon, p, g, a\n",
    "\n",
    "get_address()"
   ]
  },
  {
   "cell_type": "markdown",
   "metadata": {},
   "source": [
    "## Get metadata of all raster files in Flanders"
   ]
  },
  {
   "cell_type": "code",
   "execution_count": 92,
   "metadata": {},
   "outputs": [
    {
     "ename": "SyntaxError",
     "evalue": "invalid syntax (<ipython-input-92-eb0eb38f927e>, line 3)",
     "output_type": "error",
     "traceback": [
      "\u001b[0;36m  File \u001b[0;32m\"<ipython-input-92-eb0eb38f927e>\"\u001b[0;36m, line \u001b[0;32m3\u001b[0m\n\u001b[0;31m    def get_meta:\u001b[0m\n\u001b[0m                ^\u001b[0m\n\u001b[0;31mSyntaxError\u001b[0m\u001b[0;31m:\u001b[0m invalid syntax\n"
     ]
    }
   ],
   "source": [
    "#Retrieve meta data for all raster files\n",
    "\n",
    "def get_meta():\n",
    "    \n",
    "    #Get list of all geotiff files\n",
    "    import os\n",
    "    \n",
    "    path = os.path.abspath('../')\n",
    "    folder_path = path\n",
    "    \n",
    "    #Modify to select .tifs\n",
    "    #Also modify to read DSM files together and DTM files together\n",
    "    for path, dirs, files in os.walk(folder_path):\n",
    "        for filename in files:\n",
    "            f = open(os.path.join(path, filename))\n",
    "            filelist = f.read()\n",
    "    \n",
    "    #For file in list read meta data\n",
    "    import rasterio\n",
    "    import pandas as pd\n",
    "    \n",
    "    #Make empty data frame\n",
    "    \n",
    "    #for file in filelist:\n",
    "     #   with rasterio.open(file) as src:\n",
    "      #      meta = src.meta()\n",
    "       #     path = file\n",
    "            \n",
    "    #Append meta data to dataframe\n",
    "    \n",
    "    #Write df to a file\n",
    "    \n",
    "    return\n",
    "\n",
    "get_meta()"
   ]
  },
  {
   "cell_type": "code",
   "execution_count": 108,
   "metadata": {},
   "outputs": [
    {
     "name": "stdout",
     "output_type": "stream",
     "text": [
      "There are  86 raster files\n"
     ]
    }
   ],
   "source": [
    "### Create list of all raster files\n",
    "import os\n",
    "    \n",
    "path = os.path.abspath('/media/becode/GOPRO2/1DSM')\n",
    "folder_path = path\n",
    "\n",
    "filelist = []\n",
    "\n",
    "for path, dirs, files in os.walk(folder_path):\n",
    "        for filename in files:\n",
    "            filelist.append(filename)\n",
    "        print(\"There are \",len(filelist), \"raster files\")"
   ]
  },
  {
   "cell_type": "code",
   "execution_count": 136,
   "metadata": {},
   "outputs": [
    {
     "name": "stdout",
     "output_type": "stream",
     "text": [
      "++++overview already exits, skip create overview++++\n",
      "\n",
      "++++generate cloud optimized geotiff++++\n"
     ]
    }
   ],
   "source": [
    "#Convert geotiff to cloud geotiff\n",
    "\n",
    "from cogeotiff.cog import create_cog\n",
    "\n",
    "\n",
    "src_path = \"/media/becode/GOPRO2/1GEOTIFF/DHMVIIDTMRAS1m_k15.tif\"\n",
    "dest_path = \"/media/becode/GOPRO2/1GEOTIFF/DHMVIIDTMRAS1m_k15.tif.cog\"\n",
    "create_cog(src_path, dest_path)\n",
    "\n",
    "#the files are huge this is a bad idea"
   ]
  },
  {
   "cell_type": "code",
   "execution_count": 217,
   "metadata": {},
   "outputs": [
    {
     "name": "stdout",
     "output_type": "stream",
     "text": [
      "There are  15 raster files\n"
     ]
    }
   ],
   "source": [
    "### Create list of all raster files\n",
    "import os\n",
    "    \n",
    "path = os.path.abspath('/media/becode/GOPRO2/1GEOTIFF')\n",
    "folder_path = path\n",
    "\n",
    "filelist = []\n",
    "\n",
    "for path, dirs, files in os.walk(folder_path):\n",
    "        for filename in files:\n",
    "            filelist.append(filename)\n",
    "        print(\"There are \",len(filelist), \"raster files\")\n",
    "        \n",
    "l = filelist"
   ]
  },
  {
   "cell_type": "code",
   "execution_count": 179,
   "metadata": {},
   "outputs": [
    {
     "data": {
      "text/plain": [
       "['DHMVIIDSMRAS1m_k15.tif',\n",
       " 'DHMVIIDTMRAS1m_k15.tif',\n",
       " 'DHMVIIDSMRAS1m_k01.tif',\n",
       " 'DHMVIIDSMRAS1m_k02.tif',\n",
       " 'DHMVIIDSMRAS1m_k03.tif']"
      ]
     },
     "execution_count": 179,
     "metadata": {},
     "output_type": "execute_result"
    }
   ],
   "source": [
    "filelist"
   ]
  },
  {
   "cell_type": "code",
   "execution_count": 269,
   "metadata": {},
   "outputs": [],
   "source": [
    "import rasterio\n",
    "import pandas as pd\n",
    "\n",
    "#Make an empty list\n",
    "\n",
    "path = os.path.abspath('/media/becode/GOPRO2/1GEOTIFF')\n",
    "boundslist = []\n",
    "filenames = []\n",
    "for f in filelist:\n",
    "    filepath = os.path.join(path, f)\n",
    "    filenames.append(f)\n",
    "    with rasterio.open(filepath) as src:\n",
    "        #metalist.append(src.meta())\n",
    "        boundslist.append(src.bounds)\n",
    "        \n",
    "df = pd.DataFrame({'filelist': filenames,\n",
    "     'bounds': boundslist})\n",
    "            \n",
    "    #Append meta data to dataframe\n",
    "    \n",
    "    #Write df to a file"
   ]
  },
  {
   "cell_type": "code",
   "execution_count": 270,
   "metadata": {},
   "outputs": [
    {
     "data": {
      "text/html": [
       "<div>\n",
       "<style scoped>\n",
       "    .dataframe tbody tr th:only-of-type {\n",
       "        vertical-align: middle;\n",
       "    }\n",
       "\n",
       "    .dataframe tbody tr th {\n",
       "        vertical-align: top;\n",
       "    }\n",
       "\n",
       "    .dataframe thead th {\n",
       "        text-align: right;\n",
       "    }\n",
       "</style>\n",
       "<table border=\"1\" class=\"dataframe\">\n",
       "  <thead>\n",
       "    <tr style=\"text-align: right;\">\n",
       "      <th></th>\n",
       "      <th>filelist</th>\n",
       "      <th>bounds</th>\n",
       "    </tr>\n",
       "  </thead>\n",
       "  <tbody>\n",
       "    <tr>\n",
       "      <th>0</th>\n",
       "      <td>DHMVIIDSMRAS1m_k15.tif</td>\n",
       "      <td>(130000.0, 198000.0, 162000.0, 218000.0)</td>\n",
       "    </tr>\n",
       "    <tr>\n",
       "      <th>1</th>\n",
       "      <td>DHMVIIDTMRAS1m_k15.tif</td>\n",
       "      <td>(130000.0, 198000.0, 162000.0, 218000.0)</td>\n",
       "    </tr>\n",
       "    <tr>\n",
       "      <th>2</th>\n",
       "      <td>DHMVIIDSMRAS1m_k01.tif</td>\n",
       "      <td>(145000.0, 238000.0, 162000.0, 247000.0)</td>\n",
       "    </tr>\n",
       "    <tr>\n",
       "      <th>3</th>\n",
       "      <td>DHMVIIDSMRAS1m_k02.tif</td>\n",
       "      <td>(162000.0, 238000.0, 194000.0, 250000.0)</td>\n",
       "    </tr>\n",
       "    <tr>\n",
       "      <th>4</th>\n",
       "      <td>DHMVIIDSMRAS1m_k03.tif</td>\n",
       "      <td>(194000.0, 238000.0, 206000.0, 248000.0)</td>\n",
       "    </tr>\n",
       "    <tr>\n",
       "      <th>5</th>\n",
       "      <td>DHMVIIDSMRAS1m_k04.tif</td>\n",
       "      <td>(53000.0, 218000.0, 66000.0, 225500.0)</td>\n",
       "    </tr>\n",
       "    <tr>\n",
       "      <th>6</th>\n",
       "      <td>DHMVIIDSMRAS1m_k05.tif</td>\n",
       "      <td>(66000.0, 218000.0, 98000.0, 232000.0)</td>\n",
       "    </tr>\n",
       "    <tr>\n",
       "      <th>7</th>\n",
       "      <td>DHMVIIDSMRAS1m_k06.tif</td>\n",
       "      <td>(98000.0, 218000.0, 130000.0, 227000.0)</td>\n",
       "    </tr>\n",
       "    <tr>\n",
       "      <th>8</th>\n",
       "      <td>DHMVIIDSMRAS1m_k13.tif</td>\n",
       "      <td>(66000.0, 198000.0, 98000.0, 218000.0)</td>\n",
       "    </tr>\n",
       "    <tr>\n",
       "      <th>9</th>\n",
       "      <td>DHMVIIDSMRAS1m_k09.tif</td>\n",
       "      <td>(194000.0, 218000.0, 226000.0, 238000.0)</td>\n",
       "    </tr>\n",
       "    <tr>\n",
       "      <th>10</th>\n",
       "      <td>DHMVIIDSMRAS1m_k11.tif</td>\n",
       "      <td>(18500.0, 198000.0, 34000.0, 206500.0)</td>\n",
       "    </tr>\n",
       "    <tr>\n",
       "      <th>11</th>\n",
       "      <td>DHMVIIDSMRAS1m_k10.tif</td>\n",
       "      <td>(226000.0, 218000.0, 238000.0, 227000.0)</td>\n",
       "    </tr>\n",
       "    <tr>\n",
       "      <th>12</th>\n",
       "      <td>DHMVIIDSMRAS1m_k14.tif</td>\n",
       "      <td>(98000.0, 198000.0, 130000.0, 218000.0)</td>\n",
       "    </tr>\n",
       "    <tr>\n",
       "      <th>13</th>\n",
       "      <td>DHMVIIDSMRAS1m_k07.tif</td>\n",
       "      <td>(130000.0, 218000.0, 162000.0, 238000.0)</td>\n",
       "    </tr>\n",
       "    <tr>\n",
       "      <th>14</th>\n",
       "      <td>DHMVIIDSMRAS1m_k16.tif</td>\n",
       "      <td>(162000.0, 198000.0, 194000.0, 218000.0)</td>\n",
       "    </tr>\n",
       "  </tbody>\n",
       "</table>\n",
       "</div>"
      ],
      "text/plain": [
       "                  filelist                                    bounds\n",
       "0   DHMVIIDSMRAS1m_k15.tif  (130000.0, 198000.0, 162000.0, 218000.0)\n",
       "1   DHMVIIDTMRAS1m_k15.tif  (130000.0, 198000.0, 162000.0, 218000.0)\n",
       "2   DHMVIIDSMRAS1m_k01.tif  (145000.0, 238000.0, 162000.0, 247000.0)\n",
       "3   DHMVIIDSMRAS1m_k02.tif  (162000.0, 238000.0, 194000.0, 250000.0)\n",
       "4   DHMVIIDSMRAS1m_k03.tif  (194000.0, 238000.0, 206000.0, 248000.0)\n",
       "5   DHMVIIDSMRAS1m_k04.tif    (53000.0, 218000.0, 66000.0, 225500.0)\n",
       "6   DHMVIIDSMRAS1m_k05.tif    (66000.0, 218000.0, 98000.0, 232000.0)\n",
       "7   DHMVIIDSMRAS1m_k06.tif   (98000.0, 218000.0, 130000.0, 227000.0)\n",
       "8   DHMVIIDSMRAS1m_k13.tif    (66000.0, 198000.0, 98000.0, 218000.0)\n",
       "9   DHMVIIDSMRAS1m_k09.tif  (194000.0, 218000.0, 226000.0, 238000.0)\n",
       "10  DHMVIIDSMRAS1m_k11.tif    (18500.0, 198000.0, 34000.0, 206500.0)\n",
       "11  DHMVIIDSMRAS1m_k10.tif  (226000.0, 218000.0, 238000.0, 227000.0)\n",
       "12  DHMVIIDSMRAS1m_k14.tif   (98000.0, 198000.0, 130000.0, 218000.0)\n",
       "13  DHMVIIDSMRAS1m_k07.tif  (130000.0, 218000.0, 162000.0, 238000.0)\n",
       "14  DHMVIIDSMRAS1m_k16.tif  (162000.0, 198000.0, 194000.0, 218000.0)"
      ]
     },
     "execution_count": 270,
     "metadata": {},
     "output_type": "execute_result"
    }
   ],
   "source": [
    "df"
   ]
  },
  {
   "cell_type": "code",
   "execution_count": 207,
   "metadata": {},
   "outputs": [
    {
     "data": {
      "text/plain": [
       "BoundingBox(left=130000.0, bottom=198000.0, right=162000.0, top=218000.0)"
      ]
     },
     "execution_count": 207,
     "metadata": {},
     "output_type": "execute_result"
    }
   ],
   "source": [
    "b = [box(l, b, r, t) for l, b, r, t in zip(df.left, df.bottom, df.right, df.top)]\n",
    "boundslist[0]"
   ]
  },
  {
   "cell_type": "markdown",
   "metadata": {},
   "source": [
    "## Search for raster file that contains the user address"
   ]
  },
  {
   "cell_type": "code",
   "execution_count": 205,
   "metadata": {},
   "outputs": [],
   "source": [
    "#Search for correct geotiff file containing address\n",
    "\n",
    "def address_raster():\n",
    "    import pandas as pd\n",
    "    df = pd.read_csv(\"address_raster\")\n",
    "    ##maybe use geopandas instead\n",
    "    \n",
    "    ##check which raster.bounds intersects with the address bounds\n",
    "    \n",
    "    ##return path to intersecting raster\n",
    "    \n",
    "    return path"
   ]
  },
  {
   "cell_type": "markdown",
   "metadata": {},
   "source": [
    "## Calculate Digital Elevation Model for building"
   ]
  },
  {
   "cell_type": "code",
   "execution_count": 209,
   "metadata": {},
   "outputs": [],
   "source": [
    "import rasterio\n",
    "from rasterio.windows import Window\n",
    "from rasterio.mask import mask\n",
    "import numpy as np\n",
    "import plotly.graph_objects as go\n",
    "\n",
    "#File paths required\n",
    "dsmfile = '/home/becode/dr-robin/theano/3D_houses_data/DHMVIIDSMRAS1m_k15.tif'\n",
    "dtmfile = '/home/becode/dr-robin/theano/3D_houses_data/DHMVIIDTMRAS1m_k15.tif'\n",
    "\n",
    "#Open DSM raster with mask of building shape\n",
    "with rasterio.open(dsmfile) as src:\n",
    "    mask, out_transform, win = rasterio.mask.raster_geometry_mask(dataset=src, shapes=g, invert=False, crop=True, pad=False)\n",
    "    #Read only pixels within the window/bounds of the building shape\n",
    "    dsm = src.read(1, window = win)\n",
    "\n",
    "#Open DTM raster with mask of building shape\n",
    "with rasterio.open(dtmfile) as src:\n",
    "    mask, out_transform, win = rasterio.mask.raster_geometry_mask(dataset=src, shapes=g, invert=False, crop=True, pad=False)\n",
    "    #Read only pixels within the window/bounds of the building shape\n",
    "    dtm = src.read(1, window = win)\n",
    "\n",
    "#Calculates raw digital elevation model (no resampling)\n",
    "dem = dsm - dtm\n",
    "\n",
    "#Calculates digital elevation model with resampling - for smoother building mesh"
   ]
  },
  {
   "cell_type": "code",
   "execution_count": 103,
   "metadata": {},
   "outputs": [
    {
     "ename": "SyntaxError",
     "evalue": "invalid syntax (<ipython-input-103-cefa5a71772d>, line 13)",
     "output_type": "error",
     "traceback": [
      "\u001b[0;36m  File \u001b[0;32m\"<ipython-input-103-cefa5a71772d>\"\u001b[0;36m, line \u001b[0;32m13\u001b[0m\n\u001b[0;31m    resampling = Resampling.bilinear)\u001b[0m\n\u001b[0m               ^\u001b[0m\n\u001b[0;31mSyntaxError\u001b[0m\u001b[0;31m:\u001b[0m invalid syntax\n"
     ]
    }
   ],
   "source": [
    "import rasterio\n",
    "from rasterio.enums import Resampling\n",
    "\n",
    "upscale_factor = 2\n",
    "\n",
    "with rasterio.open(dsmfile) as src:\n",
    "\n",
    "    mask, out_transform, win = rasterio.mask.raster_geometry_mask(dataset=src, shapes=g, invert=False, crop=True, pad=False)\n",
    "    #Read only pixels within the window/bounds of the building shape\n",
    "    dsm = src.read(1, window = win).out_shape = (\n",
    "        dsm.count,int(dsm.height * upscale_factor),\n",
    "        int(dsm.width * upscale_factor),\n",
    "        resampling = Resampling.bilinear)\n",
    "\n",
    "    # scale image transform\n",
    "    transform = dsm.transform * dsm.transform.scale(\n",
    "        (dsm.width / data.shape[-1]),\n",
    "        (dsm.height / data.shape[-2]))"
   ]
  },
  {
   "cell_type": "code",
   "execution_count": 210,
   "metadata": {},
   "outputs": [
    {
     "name": "stdout",
     "output_type": "stream",
     "text": [
      "The building height is: 8.4 meters\n",
      "The building floor area is: 230 sq meters\n"
     ]
    }
   ],
   "source": [
    "#Show building height and floor area\n",
    "height = round(dem.max(), 1)\n",
    "print('The building height is:', height, 'meters')\n",
    "\n",
    "area = round(int(a), 1)\n",
    "print('The building floor area is:', area, 'sq meters')"
   ]
  },
  {
   "cell_type": "code",
   "execution_count": 230,
   "metadata": {},
   "outputs": [
    {
     "data": {
      "application/vnd.plotly.v1+json": {
       "config": {
        "plotlyServerURL": "https://plot.ly"
       },
       "data": [
        {
         "type": "surface",
         "z": [
          [
           0,
           0,
           0,
           0,
           0,
           0,
           0,
           0,
           0,
           0,
           0,
           0,
           0,
           0,
           1.4699997901916504,
           2.060000419616699,
           1.2400002479553223,
           1.0500006675720215,
           0,
           0,
           0,
           0
          ],
          [
           0,
           0,
           0,
           0,
           0,
           4.349999904632568,
           4.5799994468688965,
           2.330000400543213,
           0,
           0,
           0,
           0,
           0,
           0,
           0,
           0,
           0.009999752044677734,
           2.0699996948242188,
           1.9499998092651367,
           1.6600003242492676,
           0,
           0
          ],
          [
           0,
           0,
           0,
           0,
           1.510000228881836,
           4.680000305175781,
           5,
           4.700000286102295,
           4.409999847412109,
           0,
           0,
           0,
           0,
           0,
           0,
           0,
           0,
           -0.009999752044677734,
           0.309999942779541,
           1.9200000762939453,
           1.8400001525878906,
           0.26000022888183594
          ],
          [
           0,
           0,
           0,
           0,
           5.150000095367432,
           4.979999542236328,
           5.4599995613098145,
           5.190000534057617,
           4.880000114440918,
           4.539999961853027,
           1.380000114440918,
           0,
           0,
           0,
           0,
           0,
           0,
           0,
           0,
           0,
           0,
           0.869999885559082
          ],
          [
           0,
           0.7200002670288086,
           0,
           4.399999618530273,
           4.809999942779541,
           5.320000171661377,
           5.819999694824219,
           5.680000305175781,
           5.340000152587891,
           4.979999542236328,
           4.730000019073486,
           4.239999771118164,
           0,
           0,
           0,
           0,
           0,
           0,
           0,
           0,
           0,
           0
          ],
          [
           0,
           0,
           0.35000038146972656,
           2.6000003814697266,
           4.9800004959106445,
           5.320000171661377,
           5.649999618530273,
           5.979999542236328,
           5.810000419616699,
           5.519999980926514,
           6.299999713897705,
           6.409999847412109,
           3.8299999237060547,
           0,
           0,
           0,
           0,
           0,
           0,
           0,
           0,
           0
          ],
          [
           0,
           0,
           0,
           0.09999990463256836,
           4.519999980926514,
           4.84999942779541,
           5.149999618530273,
           5.46999979019165,
           5.819999694824219,
           6.200000286102295,
           6.62999963760376,
           6.87999963760376,
           6.559999465942383,
           4.71999979019165,
           0,
           0,
           0,
           0,
           0,
           0,
           0,
           0
          ],
          [
           0,
           0,
           0,
           0,
           0,
           2.3899993896484375,
           4.660000324249268,
           5.009999752044678,
           5.359999656677246,
           6.46999979019165,
           6.980000019073486,
           7.339999675750732,
           6.989999771118164,
           6.659999847412109,
           6.3549485206604,
           1.0099997520446777,
           0.7199997901916504,
           0,
           0,
           0,
           0,
           0
          ],
          [
           0,
           0,
           0,
           0,
           0,
           0,
           0.17999982833862305,
           4.560000419616699,
           6.309999942779541,
           6.800000190734863,
           7.260000228881836,
           7.7300004959106445,
           7.469675064086914,
           7.154825687408447,
           6.828093528747559,
           6.505819797515869,
           6.200000286102295,
           3.070000171661377,
           0,
           0,
           0,
           0
          ],
          [
           0,
           0,
           0,
           0,
           0,
           0.28999948501586914,
           0.05000019073486328,
           5.630000114440918,
           6.630000114440918,
           7.09999942779541,
           7.597732067108154,
           8.068269729614258,
           7.928732395172119,
           7.624925136566162,
           7.283796310424805,
           6.850617408752441,
           6.339999675750732,
           2.9900002479553223,
           2.9700002670288086,
           1.4200000762939453,
           0,
           0.28999948501586914
          ],
          [
           0,
           0,
           0,
           0,
           0,
           0,
           -0.029999732971191406,
           6.460000514984131,
           6.948269367218018,
           7.401997089385986,
           7.920673370361328,
           8.350000381469727,
           7.970000267028809,
           7.472959995269775,
           6.993670463562012,
           6.52316951751709,
           3.6900253295898438,
           2.999999523162842,
           3,
           3.0199999809265137,
           0.8600001335144043,
           0.059999942779541016
          ],
          [
           0,
           0,
           0,
           0,
           0,
           0,
           6.269999980926514,
           6.792956829071045,
           7.294314861297607,
           7.772599220275879,
           8.227304458618164,
           8.097769737243652,
           7.640000343322754,
           7.163006782531738,
           6.683579921722412,
           6.23122501373291,
           3.807096004486084,
           3.010000228881836,
           3,
           3.0399999618530273,
           3.0199999809265137,
           1.4599995613098145
          ],
          [
           0,
           0,
           0,
           0,
           0.5799994468688965,
           5.009999752044678,
           6.659999370574951,
           7.126092910766602,
           7.617791175842285,
           8.112649917602539,
           8.278425216674805,
           7.7986884117126465,
           7.314387798309326,
           6.8350958824157715,
           6.340000152587891,
           5.612388610839844,
           5.63908576965332,
           4.094227313995361,
           3.020000457763672,
           3.0400004386901855,
           3.049999713897705,
           0.039999961853027344
          ],
          [
           0,
           0,
           0,
           0.7199997901916504,
           3.0999999046325684,
           6.490000247955322,
           6.980000019073486,
           7.4599995613098145,
           7.935431957244873,
           8.387458801269531,
           7.944397449493408,
           7.474754810333252,
           6.992119789123535,
           6.527298927307129,
           5.663322925567627,
           5.669272422790527,
           5.655698299407959,
           5.329268932342529,
           3.060000419616699,
           3.059999942779541,
           0,
           0.5799999237060547
          ],
          [
           0,
           0,
           0,
           3.0799994468688965,
           6.3299994468688965,
           6.839999675750732,
           7.309999942779541,
           7.789999485015869,
           8.260000228881836,
           8.120800018310547,
           7.6283440589904785,
           7.148784160614014,
           6.661414623260498,
           6.132801055908203,
           5.688108444213867,
           5.703440189361572,
           5.741069793701172,
           3.083827495574951,
           3.080378532409668,
           0.6299996376037598,
           0.5600004196166992,
           0
          ],
          [
           0.15999984741210938,
           0,
           3.1100001335144043,
           5.999999523162842,
           6.649999618530273,
           7.159999847412109,
           7.5400004386901855,
           7.820000171661377,
           8.170000076293945,
           7.780635356903076,
           7.296697616577148,
           6.825364589691162,
           6.337411880493164,
           5.647083759307861,
           5.692788124084473,
           5.727658271789551,
           4.548800945281982,
           3.1320347785949707,
           3.094677448272705,
           0.2199997901916504,
           0.21000051498413086,
           0.32000017166137695
          ],
          [
           0,
           0,
           3.049999713897705,
           4.110000133514404,
           6.37999963760376,
           6.699999809265137,
           7.020000457763672,
           7.349999904632568,
           7.669999599456787,
           7.490000247955322,
           6.994523525238037,
           6.514941215515137,
           5.744202613830566,
           5.655547142028809,
           5.692081928253174,
           5.833773136138916,
           2.6965408325195312,
           2.7400002479553223,
           1.1000003814697266,
           0.7699995040893555,
           0,
           0.19000005722045898
          ],
          [
           0,
           1.6599998474121094,
           3.0300002098083496,
           3.039999485015869,
           3.039999485015869,
           6.2300004959106445,
           6.539999961853027,
           6.84999942779541,
           7.180000305175781,
           7.139999866485596,
           6.670000076293945,
           6.292742729187012,
           5.65916109085083,
           5.6468505859375,
           5.742528438568115,
           1.2982068061828613,
           2.7099995613098145,
           2.8299999237060547,
           0.34999990463256836,
           0.6899995803833008,
           0,
           0
          ],
          [
           0,
           2.9600000381469727,
           0.32000017166137695,
           2.999999523162842,
           3.0300002098083496,
           3.0300002098083496,
           3.1499996185302734,
           6.380000114440918,
           6.710000038146973,
           6.809999465942383,
           6.320000171661377,
           2.216614246368408,
           5.631558418273926,
           5.650000095367432,
           0.05000019073486328,
           0.010000228881835938,
           3.0899996757507324,
           0.4199995994567871,
           0,
           0,
           0,
           0
          ],
          [
           0,
           0,
           0,
           3.0199999809265137,
           2.9900002479553223,
           2.9900002479553223,
           3.0099997520446777,
           3.0299997329711914,
           4.010000228881836,
           6.489999771118164,
           0,
           0,
           0.1399998664855957,
           3.6200003623962402,
           0.15000009536743164,
           0.4699997901916504,
           0,
           0.7499995231628418,
           0.19999980926513672,
           0,
           0,
           0
          ],
          [
           0,
           0.010000228881835938,
           0,
           0,
           2.4000000953674316,
           3.0199999809265137,
           2.9900002479553223,
           3,
           3.109999656677246,
           3.0799999237060547,
           0,
           0,
           0,
           0,
           0.11999988555908203,
           0.2800002098083496,
           0.6899995803833008,
           0,
           0,
           0,
           0,
           0
          ],
          [
           3.260000228881836,
           0,
           0,
           0,
           0,
           0,
           3.1399998664855957,
           3.010000228881836,
           0.880000114440918,
           2.1000003814697266,
           0,
           0,
           0,
           0,
           3.0799999237060547,
           0.4099998474121094,
           0.3399996757507324,
           0,
           0,
           0,
           0,
           0
          ],
          [
           3.2900004386901855,
           3.25,
           2.4200000762939453,
           0,
           0,
           0,
           0,
           0,
           3.059999942779541,
           0,
           0,
           0,
           0,
           0.7799997329711914,
           0,
           0.7300000190734863,
           0,
           0,
           0,
           0,
           0,
           0
          ]
         ]
        }
       ],
       "layout": {
        "autosize": false,
        "height": 500,
        "margin": {
         "b": 65,
         "l": 65,
         "r": 50,
         "t": 90
        },
        "template": {
         "data": {
          "bar": [
           {
            "error_x": {
             "color": "#2a3f5f"
            },
            "error_y": {
             "color": "#2a3f5f"
            },
            "marker": {
             "line": {
              "color": "#E5ECF6",
              "width": 0.5
             }
            },
            "type": "bar"
           }
          ],
          "barpolar": [
           {
            "marker": {
             "line": {
              "color": "#E5ECF6",
              "width": 0.5
             }
            },
            "type": "barpolar"
           }
          ],
          "carpet": [
           {
            "aaxis": {
             "endlinecolor": "#2a3f5f",
             "gridcolor": "white",
             "linecolor": "white",
             "minorgridcolor": "white",
             "startlinecolor": "#2a3f5f"
            },
            "baxis": {
             "endlinecolor": "#2a3f5f",
             "gridcolor": "white",
             "linecolor": "white",
             "minorgridcolor": "white",
             "startlinecolor": "#2a3f5f"
            },
            "type": "carpet"
           }
          ],
          "choropleth": [
           {
            "colorbar": {
             "outlinewidth": 0,
             "ticks": ""
            },
            "type": "choropleth"
           }
          ],
          "contour": [
           {
            "colorbar": {
             "outlinewidth": 0,
             "ticks": ""
            },
            "colorscale": [
             [
              0,
              "#0d0887"
             ],
             [
              0.1111111111111111,
              "#46039f"
             ],
             [
              0.2222222222222222,
              "#7201a8"
             ],
             [
              0.3333333333333333,
              "#9c179e"
             ],
             [
              0.4444444444444444,
              "#bd3786"
             ],
             [
              0.5555555555555556,
              "#d8576b"
             ],
             [
              0.6666666666666666,
              "#ed7953"
             ],
             [
              0.7777777777777778,
              "#fb9f3a"
             ],
             [
              0.8888888888888888,
              "#fdca26"
             ],
             [
              1,
              "#f0f921"
             ]
            ],
            "type": "contour"
           }
          ],
          "contourcarpet": [
           {
            "colorbar": {
             "outlinewidth": 0,
             "ticks": ""
            },
            "type": "contourcarpet"
           }
          ],
          "heatmap": [
           {
            "colorbar": {
             "outlinewidth": 0,
             "ticks": ""
            },
            "colorscale": [
             [
              0,
              "#0d0887"
             ],
             [
              0.1111111111111111,
              "#46039f"
             ],
             [
              0.2222222222222222,
              "#7201a8"
             ],
             [
              0.3333333333333333,
              "#9c179e"
             ],
             [
              0.4444444444444444,
              "#bd3786"
             ],
             [
              0.5555555555555556,
              "#d8576b"
             ],
             [
              0.6666666666666666,
              "#ed7953"
             ],
             [
              0.7777777777777778,
              "#fb9f3a"
             ],
             [
              0.8888888888888888,
              "#fdca26"
             ],
             [
              1,
              "#f0f921"
             ]
            ],
            "type": "heatmap"
           }
          ],
          "heatmapgl": [
           {
            "colorbar": {
             "outlinewidth": 0,
             "ticks": ""
            },
            "colorscale": [
             [
              0,
              "#0d0887"
             ],
             [
              0.1111111111111111,
              "#46039f"
             ],
             [
              0.2222222222222222,
              "#7201a8"
             ],
             [
              0.3333333333333333,
              "#9c179e"
             ],
             [
              0.4444444444444444,
              "#bd3786"
             ],
             [
              0.5555555555555556,
              "#d8576b"
             ],
             [
              0.6666666666666666,
              "#ed7953"
             ],
             [
              0.7777777777777778,
              "#fb9f3a"
             ],
             [
              0.8888888888888888,
              "#fdca26"
             ],
             [
              1,
              "#f0f921"
             ]
            ],
            "type": "heatmapgl"
           }
          ],
          "histogram": [
           {
            "marker": {
             "colorbar": {
              "outlinewidth": 0,
              "ticks": ""
             }
            },
            "type": "histogram"
           }
          ],
          "histogram2d": [
           {
            "colorbar": {
             "outlinewidth": 0,
             "ticks": ""
            },
            "colorscale": [
             [
              0,
              "#0d0887"
             ],
             [
              0.1111111111111111,
              "#46039f"
             ],
             [
              0.2222222222222222,
              "#7201a8"
             ],
             [
              0.3333333333333333,
              "#9c179e"
             ],
             [
              0.4444444444444444,
              "#bd3786"
             ],
             [
              0.5555555555555556,
              "#d8576b"
             ],
             [
              0.6666666666666666,
              "#ed7953"
             ],
             [
              0.7777777777777778,
              "#fb9f3a"
             ],
             [
              0.8888888888888888,
              "#fdca26"
             ],
             [
              1,
              "#f0f921"
             ]
            ],
            "type": "histogram2d"
           }
          ],
          "histogram2dcontour": [
           {
            "colorbar": {
             "outlinewidth": 0,
             "ticks": ""
            },
            "colorscale": [
             [
              0,
              "#0d0887"
             ],
             [
              0.1111111111111111,
              "#46039f"
             ],
             [
              0.2222222222222222,
              "#7201a8"
             ],
             [
              0.3333333333333333,
              "#9c179e"
             ],
             [
              0.4444444444444444,
              "#bd3786"
             ],
             [
              0.5555555555555556,
              "#d8576b"
             ],
             [
              0.6666666666666666,
              "#ed7953"
             ],
             [
              0.7777777777777778,
              "#fb9f3a"
             ],
             [
              0.8888888888888888,
              "#fdca26"
             ],
             [
              1,
              "#f0f921"
             ]
            ],
            "type": "histogram2dcontour"
           }
          ],
          "mesh3d": [
           {
            "colorbar": {
             "outlinewidth": 0,
             "ticks": ""
            },
            "type": "mesh3d"
           }
          ],
          "parcoords": [
           {
            "line": {
             "colorbar": {
              "outlinewidth": 0,
              "ticks": ""
             }
            },
            "type": "parcoords"
           }
          ],
          "pie": [
           {
            "automargin": true,
            "type": "pie"
           }
          ],
          "scatter": [
           {
            "marker": {
             "colorbar": {
              "outlinewidth": 0,
              "ticks": ""
             }
            },
            "type": "scatter"
           }
          ],
          "scatter3d": [
           {
            "line": {
             "colorbar": {
              "outlinewidth": 0,
              "ticks": ""
             }
            },
            "marker": {
             "colorbar": {
              "outlinewidth": 0,
              "ticks": ""
             }
            },
            "type": "scatter3d"
           }
          ],
          "scattercarpet": [
           {
            "marker": {
             "colorbar": {
              "outlinewidth": 0,
              "ticks": ""
             }
            },
            "type": "scattercarpet"
           }
          ],
          "scattergeo": [
           {
            "marker": {
             "colorbar": {
              "outlinewidth": 0,
              "ticks": ""
             }
            },
            "type": "scattergeo"
           }
          ],
          "scattergl": [
           {
            "marker": {
             "colorbar": {
              "outlinewidth": 0,
              "ticks": ""
             }
            },
            "type": "scattergl"
           }
          ],
          "scattermapbox": [
           {
            "marker": {
             "colorbar": {
              "outlinewidth": 0,
              "ticks": ""
             }
            },
            "type": "scattermapbox"
           }
          ],
          "scatterpolar": [
           {
            "marker": {
             "colorbar": {
              "outlinewidth": 0,
              "ticks": ""
             }
            },
            "type": "scatterpolar"
           }
          ],
          "scatterpolargl": [
           {
            "marker": {
             "colorbar": {
              "outlinewidth": 0,
              "ticks": ""
             }
            },
            "type": "scatterpolargl"
           }
          ],
          "scatterternary": [
           {
            "marker": {
             "colorbar": {
              "outlinewidth": 0,
              "ticks": ""
             }
            },
            "type": "scatterternary"
           }
          ],
          "surface": [
           {
            "colorbar": {
             "outlinewidth": 0,
             "ticks": ""
            },
            "colorscale": [
             [
              0,
              "#0d0887"
             ],
             [
              0.1111111111111111,
              "#46039f"
             ],
             [
              0.2222222222222222,
              "#7201a8"
             ],
             [
              0.3333333333333333,
              "#9c179e"
             ],
             [
              0.4444444444444444,
              "#bd3786"
             ],
             [
              0.5555555555555556,
              "#d8576b"
             ],
             [
              0.6666666666666666,
              "#ed7953"
             ],
             [
              0.7777777777777778,
              "#fb9f3a"
             ],
             [
              0.8888888888888888,
              "#fdca26"
             ],
             [
              1,
              "#f0f921"
             ]
            ],
            "type": "surface"
           }
          ],
          "table": [
           {
            "cells": {
             "fill": {
              "color": "#EBF0F8"
             },
             "line": {
              "color": "white"
             }
            },
            "header": {
             "fill": {
              "color": "#C8D4E3"
             },
             "line": {
              "color": "white"
             }
            },
            "type": "table"
           }
          ]
         },
         "layout": {
          "annotationdefaults": {
           "arrowcolor": "#2a3f5f",
           "arrowhead": 0,
           "arrowwidth": 1
          },
          "coloraxis": {
           "colorbar": {
            "outlinewidth": 0,
            "ticks": ""
           }
          },
          "colorscale": {
           "diverging": [
            [
             0,
             "#8e0152"
            ],
            [
             0.1,
             "#c51b7d"
            ],
            [
             0.2,
             "#de77ae"
            ],
            [
             0.3,
             "#f1b6da"
            ],
            [
             0.4,
             "#fde0ef"
            ],
            [
             0.5,
             "#f7f7f7"
            ],
            [
             0.6,
             "#e6f5d0"
            ],
            [
             0.7,
             "#b8e186"
            ],
            [
             0.8,
             "#7fbc41"
            ],
            [
             0.9,
             "#4d9221"
            ],
            [
             1,
             "#276419"
            ]
           ],
           "sequential": [
            [
             0,
             "#0d0887"
            ],
            [
             0.1111111111111111,
             "#46039f"
            ],
            [
             0.2222222222222222,
             "#7201a8"
            ],
            [
             0.3333333333333333,
             "#9c179e"
            ],
            [
             0.4444444444444444,
             "#bd3786"
            ],
            [
             0.5555555555555556,
             "#d8576b"
            ],
            [
             0.6666666666666666,
             "#ed7953"
            ],
            [
             0.7777777777777778,
             "#fb9f3a"
            ],
            [
             0.8888888888888888,
             "#fdca26"
            ],
            [
             1,
             "#f0f921"
            ]
           ],
           "sequentialminus": [
            [
             0,
             "#0d0887"
            ],
            [
             0.1111111111111111,
             "#46039f"
            ],
            [
             0.2222222222222222,
             "#7201a8"
            ],
            [
             0.3333333333333333,
             "#9c179e"
            ],
            [
             0.4444444444444444,
             "#bd3786"
            ],
            [
             0.5555555555555556,
             "#d8576b"
            ],
            [
             0.6666666666666666,
             "#ed7953"
            ],
            [
             0.7777777777777778,
             "#fb9f3a"
            ],
            [
             0.8888888888888888,
             "#fdca26"
            ],
            [
             1,
             "#f0f921"
            ]
           ]
          },
          "colorway": [
           "#636efa",
           "#EF553B",
           "#00cc96",
           "#ab63fa",
           "#FFA15A",
           "#19d3f3",
           "#FF6692",
           "#B6E880",
           "#FF97FF",
           "#FECB52"
          ],
          "font": {
           "color": "#2a3f5f"
          },
          "geo": {
           "bgcolor": "white",
           "lakecolor": "white",
           "landcolor": "#E5ECF6",
           "showlakes": true,
           "showland": true,
           "subunitcolor": "white"
          },
          "hoverlabel": {
           "align": "left"
          },
          "hovermode": "closest",
          "mapbox": {
           "style": "light"
          },
          "paper_bgcolor": "white",
          "plot_bgcolor": "#E5ECF6",
          "polar": {
           "angularaxis": {
            "gridcolor": "white",
            "linecolor": "white",
            "ticks": ""
           },
           "bgcolor": "#E5ECF6",
           "radialaxis": {
            "gridcolor": "white",
            "linecolor": "white",
            "ticks": ""
           }
          },
          "scene": {
           "xaxis": {
            "backgroundcolor": "#E5ECF6",
            "gridcolor": "white",
            "gridwidth": 2,
            "linecolor": "white",
            "showbackground": true,
            "ticks": "",
            "zerolinecolor": "white"
           },
           "yaxis": {
            "backgroundcolor": "#E5ECF6",
            "gridcolor": "white",
            "gridwidth": 2,
            "linecolor": "white",
            "showbackground": true,
            "ticks": "",
            "zerolinecolor": "white"
           },
           "zaxis": {
            "backgroundcolor": "#E5ECF6",
            "gridcolor": "white",
            "gridwidth": 2,
            "linecolor": "white",
            "showbackground": true,
            "ticks": "",
            "zerolinecolor": "white"
           }
          },
          "shapedefaults": {
           "line": {
            "color": "#2a3f5f"
           }
          },
          "ternary": {
           "aaxis": {
            "gridcolor": "white",
            "linecolor": "white",
            "ticks": ""
           },
           "baxis": {
            "gridcolor": "white",
            "linecolor": "white",
            "ticks": ""
           },
           "bgcolor": "#E5ECF6",
           "caxis": {
            "gridcolor": "white",
            "linecolor": "white",
            "ticks": ""
           }
          },
          "title": {
           "x": 0.05
          },
          "xaxis": {
           "automargin": true,
           "gridcolor": "white",
           "linecolor": "white",
           "ticks": "",
           "title": {
            "standoff": 15
           },
           "zerolinecolor": "white",
           "zerolinewidth": 2
          },
          "yaxis": {
           "automargin": true,
           "gridcolor": "white",
           "linecolor": "white",
           "ticks": "",
           "title": {
            "standoff": 15
           },
           "zerolinecolor": "white",
           "zerolinewidth": 2
          }
         }
        },
        "title": {
         "text": "Eugeen de bocklaan14Schoten2900"
        },
        "width": 500
       }
      },
      "text/html": [
       "<div>\n",
       "        \n",
       "        \n",
       "            <div id=\"8e3cfea8-e65f-4730-8748-d8025e7fc3b0\" class=\"plotly-graph-div\" style=\"height:500px; width:500px;\"></div>\n",
       "            <script type=\"text/javascript\">\n",
       "                require([\"plotly\"], function(Plotly) {\n",
       "                    window.PLOTLYENV=window.PLOTLYENV || {};\n",
       "                    \n",
       "                if (document.getElementById(\"8e3cfea8-e65f-4730-8748-d8025e7fc3b0\")) {\n",
       "                    Plotly.newPlot(\n",
       "                        '8e3cfea8-e65f-4730-8748-d8025e7fc3b0',\n",
       "                        [{\"type\": \"surface\", \"z\": [[0.0, 0.0, 0.0, 0.0, 0.0, 0.0, 0.0, 0.0, 0.0, 0.0, 0.0, 0.0, 0.0, 0.0, 1.4699997901916504, 2.060000419616699, 1.2400002479553223, 1.0500006675720215, 0.0, 0.0, 0.0, 0.0], [0.0, 0.0, 0.0, 0.0, 0.0, 4.349999904632568, 4.5799994468688965, 2.330000400543213, 0.0, 0.0, 0.0, 0.0, 0.0, 0.0, 0.0, 0.0, 0.009999752044677734, 2.0699996948242188, 1.9499998092651367, 1.6600003242492676, 0.0, 0.0], [0.0, 0.0, 0.0, 0.0, 1.510000228881836, 4.680000305175781, 5.0, 4.700000286102295, 4.409999847412109, 0.0, 0.0, 0.0, 0.0, 0.0, 0.0, 0.0, 0.0, -0.009999752044677734, 0.309999942779541, 1.9200000762939453, 1.8400001525878906, 0.26000022888183594], [0.0, 0.0, 0.0, 0.0, 5.150000095367432, 4.979999542236328, 5.4599995613098145, 5.190000534057617, 4.880000114440918, 4.539999961853027, 1.380000114440918, 0.0, 0.0, 0.0, 0.0, 0.0, 0.0, 0.0, 0.0, 0.0, 0.0, 0.869999885559082], [0.0, 0.7200002670288086, 0.0, 4.399999618530273, 4.809999942779541, 5.320000171661377, 5.819999694824219, 5.680000305175781, 5.340000152587891, 4.979999542236328, 4.730000019073486, 4.239999771118164, 0.0, 0.0, 0.0, 0.0, 0.0, 0.0, 0.0, 0.0, 0.0, 0.0], [0.0, 0.0, 0.35000038146972656, 2.6000003814697266, 4.9800004959106445, 5.320000171661377, 5.649999618530273, 5.979999542236328, 5.810000419616699, 5.519999980926514, 6.299999713897705, 6.409999847412109, 3.8299999237060547, 0.0, 0.0, 0.0, 0.0, 0.0, 0.0, 0.0, 0.0, 0.0], [0.0, 0.0, 0.0, 0.09999990463256836, 4.519999980926514, 4.84999942779541, 5.149999618530273, 5.46999979019165, 5.819999694824219, 6.200000286102295, 6.62999963760376, 6.87999963760376, 6.559999465942383, 4.71999979019165, 0.0, 0.0, 0.0, 0.0, 0.0, 0.0, 0.0, 0.0], [0.0, 0.0, 0.0, 0.0, 0.0, 2.3899993896484375, 4.660000324249268, 5.009999752044678, 5.359999656677246, 6.46999979019165, 6.980000019073486, 7.339999675750732, 6.989999771118164, 6.659999847412109, 6.3549485206604, 1.0099997520446777, 0.7199997901916504, 0.0, 0.0, 0.0, 0.0, 0.0], [0.0, 0.0, 0.0, 0.0, 0.0, 0.0, 0.17999982833862305, 4.560000419616699, 6.309999942779541, 6.800000190734863, 7.260000228881836, 7.7300004959106445, 7.469675064086914, 7.154825687408447, 6.828093528747559, 6.505819797515869, 6.200000286102295, 3.070000171661377, 0.0, 0.0, 0.0, 0.0], [0.0, 0.0, 0.0, 0.0, 0.0, 0.28999948501586914, 0.05000019073486328, 5.630000114440918, 6.630000114440918, 7.09999942779541, 7.597732067108154, 8.068269729614258, 7.928732395172119, 7.624925136566162, 7.283796310424805, 6.850617408752441, 6.339999675750732, 2.9900002479553223, 2.9700002670288086, 1.4200000762939453, 0.0, 0.28999948501586914], [0.0, 0.0, 0.0, 0.0, 0.0, 0.0, -0.029999732971191406, 6.460000514984131, 6.948269367218018, 7.401997089385986, 7.920673370361328, 8.350000381469727, 7.970000267028809, 7.472959995269775, 6.993670463562012, 6.52316951751709, 3.6900253295898438, 2.999999523162842, 3.0, 3.0199999809265137, 0.8600001335144043, 0.059999942779541016], [0.0, 0.0, 0.0, 0.0, 0.0, 0.0, 6.269999980926514, 6.792956829071045, 7.294314861297607, 7.772599220275879, 8.227304458618164, 8.097769737243652, 7.640000343322754, 7.163006782531738, 6.683579921722412, 6.23122501373291, 3.807096004486084, 3.010000228881836, 3.0, 3.0399999618530273, 3.0199999809265137, 1.4599995613098145], [0.0, 0.0, 0.0, 0.0, 0.5799994468688965, 5.009999752044678, 6.659999370574951, 7.126092910766602, 7.617791175842285, 8.112649917602539, 8.278425216674805, 7.7986884117126465, 7.314387798309326, 6.8350958824157715, 6.340000152587891, 5.612388610839844, 5.63908576965332, 4.094227313995361, 3.020000457763672, 3.0400004386901855, 3.049999713897705, 0.039999961853027344], [0.0, 0.0, 0.0, 0.7199997901916504, 3.0999999046325684, 6.490000247955322, 6.980000019073486, 7.4599995613098145, 7.935431957244873, 8.387458801269531, 7.944397449493408, 7.474754810333252, 6.992119789123535, 6.527298927307129, 5.663322925567627, 5.669272422790527, 5.655698299407959, 5.329268932342529, 3.060000419616699, 3.059999942779541, 0.0, 0.5799999237060547], [0.0, 0.0, 0.0, 3.0799994468688965, 6.3299994468688965, 6.839999675750732, 7.309999942779541, 7.789999485015869, 8.260000228881836, 8.120800018310547, 7.6283440589904785, 7.148784160614014, 6.661414623260498, 6.132801055908203, 5.688108444213867, 5.703440189361572, 5.741069793701172, 3.083827495574951, 3.080378532409668, 0.6299996376037598, 0.5600004196166992, 0.0], [0.15999984741210938, 0.0, 3.1100001335144043, 5.999999523162842, 6.649999618530273, 7.159999847412109, 7.5400004386901855, 7.820000171661377, 8.170000076293945, 7.780635356903076, 7.296697616577148, 6.825364589691162, 6.337411880493164, 5.647083759307861, 5.692788124084473, 5.727658271789551, 4.548800945281982, 3.1320347785949707, 3.094677448272705, 0.2199997901916504, 0.21000051498413086, 0.32000017166137695], [0.0, 0.0, 3.049999713897705, 4.110000133514404, 6.37999963760376, 6.699999809265137, 7.020000457763672, 7.349999904632568, 7.669999599456787, 7.490000247955322, 6.994523525238037, 6.514941215515137, 5.744202613830566, 5.655547142028809, 5.692081928253174, 5.833773136138916, 2.6965408325195312, 2.7400002479553223, 1.1000003814697266, 0.7699995040893555, 0.0, 0.19000005722045898], [0.0, 1.6599998474121094, 3.0300002098083496, 3.039999485015869, 3.039999485015869, 6.2300004959106445, 6.539999961853027, 6.84999942779541, 7.180000305175781, 7.139999866485596, 6.670000076293945, 6.292742729187012, 5.65916109085083, 5.6468505859375, 5.742528438568115, 1.2982068061828613, 2.7099995613098145, 2.8299999237060547, 0.34999990463256836, 0.6899995803833008, 0.0, 0.0], [0.0, 2.9600000381469727, 0.32000017166137695, 2.999999523162842, 3.0300002098083496, 3.0300002098083496, 3.1499996185302734, 6.380000114440918, 6.710000038146973, 6.809999465942383, 6.320000171661377, 2.216614246368408, 5.631558418273926, 5.650000095367432, 0.05000019073486328, 0.010000228881835938, 3.0899996757507324, 0.4199995994567871, 0.0, 0.0, 0.0, 0.0], [0.0, 0.0, 0.0, 3.0199999809265137, 2.9900002479553223, 2.9900002479553223, 3.0099997520446777, 3.0299997329711914, 4.010000228881836, 6.489999771118164, 0.0, 0.0, 0.1399998664855957, 3.6200003623962402, 0.15000009536743164, 0.4699997901916504, 0.0, 0.7499995231628418, 0.19999980926513672, 0.0, 0.0, 0.0], [0.0, 0.010000228881835938, 0.0, 0.0, 2.4000000953674316, 3.0199999809265137, 2.9900002479553223, 3.0, 3.109999656677246, 3.0799999237060547, 0.0, 0.0, 0.0, 0.0, 0.11999988555908203, 0.2800002098083496, 0.6899995803833008, 0.0, 0.0, 0.0, 0.0, 0.0], [3.260000228881836, 0.0, 0.0, 0.0, 0.0, 0.0, 3.1399998664855957, 3.010000228881836, 0.880000114440918, 2.1000003814697266, 0.0, 0.0, 0.0, 0.0, 3.0799999237060547, 0.4099998474121094, 0.3399996757507324, 0.0, 0.0, 0.0, 0.0, 0.0], [3.2900004386901855, 3.25, 2.4200000762939453, 0.0, 0.0, 0.0, 0.0, 0.0, 3.059999942779541, 0.0, 0.0, 0.0, 0.0, 0.7799997329711914, 0.0, 0.7300000190734863, 0.0, 0.0, 0.0, 0.0, 0.0, 0.0]]}],\n",
       "                        {\"autosize\": false, \"height\": 500, \"margin\": {\"b\": 65, \"l\": 65, \"r\": 50, \"t\": 90}, \"template\": {\"data\": {\"bar\": [{\"error_x\": {\"color\": \"#2a3f5f\"}, \"error_y\": {\"color\": \"#2a3f5f\"}, \"marker\": {\"line\": {\"color\": \"#E5ECF6\", \"width\": 0.5}}, \"type\": \"bar\"}], \"barpolar\": [{\"marker\": {\"line\": {\"color\": \"#E5ECF6\", \"width\": 0.5}}, \"type\": \"barpolar\"}], \"carpet\": [{\"aaxis\": {\"endlinecolor\": \"#2a3f5f\", \"gridcolor\": \"white\", \"linecolor\": \"white\", \"minorgridcolor\": \"white\", \"startlinecolor\": \"#2a3f5f\"}, \"baxis\": {\"endlinecolor\": \"#2a3f5f\", \"gridcolor\": \"white\", \"linecolor\": \"white\", \"minorgridcolor\": \"white\", \"startlinecolor\": \"#2a3f5f\"}, \"type\": \"carpet\"}], \"choropleth\": [{\"colorbar\": {\"outlinewidth\": 0, \"ticks\": \"\"}, \"type\": \"choropleth\"}], \"contour\": [{\"colorbar\": {\"outlinewidth\": 0, \"ticks\": \"\"}, \"colorscale\": [[0.0, \"#0d0887\"], [0.1111111111111111, \"#46039f\"], [0.2222222222222222, \"#7201a8\"], [0.3333333333333333, \"#9c179e\"], [0.4444444444444444, \"#bd3786\"], [0.5555555555555556, \"#d8576b\"], [0.6666666666666666, \"#ed7953\"], [0.7777777777777778, \"#fb9f3a\"], [0.8888888888888888, \"#fdca26\"], [1.0, \"#f0f921\"]], \"type\": \"contour\"}], \"contourcarpet\": [{\"colorbar\": {\"outlinewidth\": 0, \"ticks\": \"\"}, \"type\": \"contourcarpet\"}], \"heatmap\": [{\"colorbar\": {\"outlinewidth\": 0, \"ticks\": \"\"}, \"colorscale\": [[0.0, \"#0d0887\"], [0.1111111111111111, \"#46039f\"], [0.2222222222222222, \"#7201a8\"], [0.3333333333333333, \"#9c179e\"], [0.4444444444444444, \"#bd3786\"], [0.5555555555555556, \"#d8576b\"], [0.6666666666666666, \"#ed7953\"], [0.7777777777777778, \"#fb9f3a\"], [0.8888888888888888, \"#fdca26\"], [1.0, \"#f0f921\"]], \"type\": \"heatmap\"}], \"heatmapgl\": [{\"colorbar\": {\"outlinewidth\": 0, \"ticks\": \"\"}, \"colorscale\": [[0.0, \"#0d0887\"], [0.1111111111111111, \"#46039f\"], [0.2222222222222222, \"#7201a8\"], [0.3333333333333333, \"#9c179e\"], [0.4444444444444444, \"#bd3786\"], [0.5555555555555556, \"#d8576b\"], [0.6666666666666666, \"#ed7953\"], [0.7777777777777778, \"#fb9f3a\"], [0.8888888888888888, \"#fdca26\"], [1.0, \"#f0f921\"]], \"type\": \"heatmapgl\"}], \"histogram\": [{\"marker\": {\"colorbar\": {\"outlinewidth\": 0, \"ticks\": \"\"}}, \"type\": \"histogram\"}], \"histogram2d\": [{\"colorbar\": {\"outlinewidth\": 0, \"ticks\": \"\"}, \"colorscale\": [[0.0, \"#0d0887\"], [0.1111111111111111, \"#46039f\"], [0.2222222222222222, \"#7201a8\"], [0.3333333333333333, \"#9c179e\"], [0.4444444444444444, \"#bd3786\"], [0.5555555555555556, \"#d8576b\"], [0.6666666666666666, \"#ed7953\"], [0.7777777777777778, \"#fb9f3a\"], [0.8888888888888888, \"#fdca26\"], [1.0, \"#f0f921\"]], \"type\": \"histogram2d\"}], \"histogram2dcontour\": [{\"colorbar\": {\"outlinewidth\": 0, \"ticks\": \"\"}, \"colorscale\": [[0.0, \"#0d0887\"], [0.1111111111111111, \"#46039f\"], [0.2222222222222222, \"#7201a8\"], [0.3333333333333333, \"#9c179e\"], [0.4444444444444444, \"#bd3786\"], [0.5555555555555556, \"#d8576b\"], [0.6666666666666666, \"#ed7953\"], [0.7777777777777778, \"#fb9f3a\"], [0.8888888888888888, \"#fdca26\"], [1.0, \"#f0f921\"]], \"type\": \"histogram2dcontour\"}], \"mesh3d\": [{\"colorbar\": {\"outlinewidth\": 0, \"ticks\": \"\"}, \"type\": \"mesh3d\"}], \"parcoords\": [{\"line\": {\"colorbar\": {\"outlinewidth\": 0, \"ticks\": \"\"}}, \"type\": \"parcoords\"}], \"pie\": [{\"automargin\": true, \"type\": \"pie\"}], \"scatter\": [{\"marker\": {\"colorbar\": {\"outlinewidth\": 0, \"ticks\": \"\"}}, \"type\": \"scatter\"}], \"scatter3d\": [{\"line\": {\"colorbar\": {\"outlinewidth\": 0, \"ticks\": \"\"}}, \"marker\": {\"colorbar\": {\"outlinewidth\": 0, \"ticks\": \"\"}}, \"type\": \"scatter3d\"}], \"scattercarpet\": [{\"marker\": {\"colorbar\": {\"outlinewidth\": 0, \"ticks\": \"\"}}, \"type\": \"scattercarpet\"}], \"scattergeo\": [{\"marker\": {\"colorbar\": {\"outlinewidth\": 0, \"ticks\": \"\"}}, \"type\": \"scattergeo\"}], \"scattergl\": [{\"marker\": {\"colorbar\": {\"outlinewidth\": 0, \"ticks\": \"\"}}, \"type\": \"scattergl\"}], \"scattermapbox\": [{\"marker\": {\"colorbar\": {\"outlinewidth\": 0, \"ticks\": \"\"}}, \"type\": \"scattermapbox\"}], \"scatterpolar\": [{\"marker\": {\"colorbar\": {\"outlinewidth\": 0, \"ticks\": \"\"}}, \"type\": \"scatterpolar\"}], \"scatterpolargl\": [{\"marker\": {\"colorbar\": {\"outlinewidth\": 0, \"ticks\": \"\"}}, \"type\": \"scatterpolargl\"}], \"scatterternary\": [{\"marker\": {\"colorbar\": {\"outlinewidth\": 0, \"ticks\": \"\"}}, \"type\": \"scatterternary\"}], \"surface\": [{\"colorbar\": {\"outlinewidth\": 0, \"ticks\": \"\"}, \"colorscale\": [[0.0, \"#0d0887\"], [0.1111111111111111, \"#46039f\"], [0.2222222222222222, \"#7201a8\"], [0.3333333333333333, \"#9c179e\"], [0.4444444444444444, \"#bd3786\"], [0.5555555555555556, \"#d8576b\"], [0.6666666666666666, \"#ed7953\"], [0.7777777777777778, \"#fb9f3a\"], [0.8888888888888888, \"#fdca26\"], [1.0, \"#f0f921\"]], \"type\": \"surface\"}], \"table\": [{\"cells\": {\"fill\": {\"color\": \"#EBF0F8\"}, \"line\": {\"color\": \"white\"}}, \"header\": {\"fill\": {\"color\": \"#C8D4E3\"}, \"line\": {\"color\": \"white\"}}, \"type\": \"table\"}]}, \"layout\": {\"annotationdefaults\": {\"arrowcolor\": \"#2a3f5f\", \"arrowhead\": 0, \"arrowwidth\": 1}, \"coloraxis\": {\"colorbar\": {\"outlinewidth\": 0, \"ticks\": \"\"}}, \"colorscale\": {\"diverging\": [[0, \"#8e0152\"], [0.1, \"#c51b7d\"], [0.2, \"#de77ae\"], [0.3, \"#f1b6da\"], [0.4, \"#fde0ef\"], [0.5, \"#f7f7f7\"], [0.6, \"#e6f5d0\"], [0.7, \"#b8e186\"], [0.8, \"#7fbc41\"], [0.9, \"#4d9221\"], [1, \"#276419\"]], \"sequential\": [[0.0, \"#0d0887\"], [0.1111111111111111, \"#46039f\"], [0.2222222222222222, \"#7201a8\"], [0.3333333333333333, \"#9c179e\"], [0.4444444444444444, \"#bd3786\"], [0.5555555555555556, \"#d8576b\"], [0.6666666666666666, \"#ed7953\"], [0.7777777777777778, \"#fb9f3a\"], [0.8888888888888888, \"#fdca26\"], [1.0, \"#f0f921\"]], \"sequentialminus\": [[0.0, \"#0d0887\"], [0.1111111111111111, \"#46039f\"], [0.2222222222222222, \"#7201a8\"], [0.3333333333333333, \"#9c179e\"], [0.4444444444444444, \"#bd3786\"], [0.5555555555555556, \"#d8576b\"], [0.6666666666666666, \"#ed7953\"], [0.7777777777777778, \"#fb9f3a\"], [0.8888888888888888, \"#fdca26\"], [1.0, \"#f0f921\"]]}, \"colorway\": [\"#636efa\", \"#EF553B\", \"#00cc96\", \"#ab63fa\", \"#FFA15A\", \"#19d3f3\", \"#FF6692\", \"#B6E880\", \"#FF97FF\", \"#FECB52\"], \"font\": {\"color\": \"#2a3f5f\"}, \"geo\": {\"bgcolor\": \"white\", \"lakecolor\": \"white\", \"landcolor\": \"#E5ECF6\", \"showlakes\": true, \"showland\": true, \"subunitcolor\": \"white\"}, \"hoverlabel\": {\"align\": \"left\"}, \"hovermode\": \"closest\", \"mapbox\": {\"style\": \"light\"}, \"paper_bgcolor\": \"white\", \"plot_bgcolor\": \"#E5ECF6\", \"polar\": {\"angularaxis\": {\"gridcolor\": \"white\", \"linecolor\": \"white\", \"ticks\": \"\"}, \"bgcolor\": \"#E5ECF6\", \"radialaxis\": {\"gridcolor\": \"white\", \"linecolor\": \"white\", \"ticks\": \"\"}}, \"scene\": {\"xaxis\": {\"backgroundcolor\": \"#E5ECF6\", \"gridcolor\": \"white\", \"gridwidth\": 2, \"linecolor\": \"white\", \"showbackground\": true, \"ticks\": \"\", \"zerolinecolor\": \"white\"}, \"yaxis\": {\"backgroundcolor\": \"#E5ECF6\", \"gridcolor\": \"white\", \"gridwidth\": 2, \"linecolor\": \"white\", \"showbackground\": true, \"ticks\": \"\", \"zerolinecolor\": \"white\"}, \"zaxis\": {\"backgroundcolor\": \"#E5ECF6\", \"gridcolor\": \"white\", \"gridwidth\": 2, \"linecolor\": \"white\", \"showbackground\": true, \"ticks\": \"\", \"zerolinecolor\": \"white\"}}, \"shapedefaults\": {\"line\": {\"color\": \"#2a3f5f\"}}, \"ternary\": {\"aaxis\": {\"gridcolor\": \"white\", \"linecolor\": \"white\", \"ticks\": \"\"}, \"baxis\": {\"gridcolor\": \"white\", \"linecolor\": \"white\", \"ticks\": \"\"}, \"bgcolor\": \"#E5ECF6\", \"caxis\": {\"gridcolor\": \"white\", \"linecolor\": \"white\", \"ticks\": \"\"}}, \"title\": {\"x\": 0.05}, \"xaxis\": {\"automargin\": true, \"gridcolor\": \"white\", \"linecolor\": \"white\", \"ticks\": \"\", \"title\": {\"standoff\": 15}, \"zerolinecolor\": \"white\", \"zerolinewidth\": 2}, \"yaxis\": {\"automargin\": true, \"gridcolor\": \"white\", \"linecolor\": \"white\", \"ticks\": \"\", \"title\": {\"standoff\": 15}, \"zerolinecolor\": \"white\", \"zerolinewidth\": 2}}}, \"title\": {\"text\": \"Eugeen de bocklaan14Schoten2900\"}, \"width\": 500},\n",
       "                        {\"responsive\": true}\n",
       "                    ).then(function(){\n",
       "                            \n",
       "var gd = document.getElementById('8e3cfea8-e65f-4730-8748-d8025e7fc3b0');\n",
       "var x = new MutationObserver(function (mutations, observer) {{\n",
       "        var display = window.getComputedStyle(gd).display;\n",
       "        if (!display || display === 'none') {{\n",
       "            console.log([gd, 'removed!']);\n",
       "            Plotly.purge(gd);\n",
       "            observer.disconnect();\n",
       "        }}\n",
       "}});\n",
       "\n",
       "// Listen for the removal of the full notebook cells\n",
       "var notebookContainer = gd.closest('#notebook-container');\n",
       "if (notebookContainer) {{\n",
       "    x.observe(notebookContainer, {childList: true});\n",
       "}}\n",
       "\n",
       "// Listen for the clearing of the current output cell\n",
       "var outputEl = gd.closest('.output');\n",
       "if (outputEl) {{\n",
       "    x.observe(outputEl, {childList: true});\n",
       "}}\n",
       "\n",
       "                        })\n",
       "                };\n",
       "                });\n",
       "            </script>\n",
       "        </div>"
      ]
     },
     "metadata": {},
     "output_type": "display_data"
    },
    {
     "name": "stdout",
     "output_type": "stream",
     "text": [
      "Running on http://127.0.0.1:8050/\n",
      "Running on http://127.0.0.1:8050/\n",
      "Running on http://127.0.0.1:8050/\n",
      "Debugger PIN: 745-877-175\n",
      "Debugger PIN: 745-877-175\n",
      "Debugger PIN: 745-877-175\n",
      " * Serving Flask app \"__main__\" (lazy loading)\n",
      " * Environment: production\n",
      "\u001b[31m   WARNING: This is a development server. Do not use it in a production deployment.\u001b[0m\n",
      "\u001b[2m   Use a production WSGI server instead.\u001b[0m\n",
      " * Debug mode: on\n"
     ]
    }
   ],
   "source": [
    "import plotly.graph_objects as go\n",
    "\n",
    "#Plot xyz of building\n",
    "fig = go.Figure(data=[go.Surface(z=dem)])\n",
    "\n",
    "#fig = go.Figure(data=[go.Surface(z=z_data.values)])\n",
    "\n",
    "fig.update_layout(title=building_address, autosize=False,\n",
    "                  width=500, height=500,\n",
    "                  margin=dict(l=65, r=50, b=65, t=90))\n",
    "\n",
    "fig.show()\n",
    "\n",
    "import dash\n",
    "import dash_core_components as dcc\n",
    "import dash_html_components as html\n",
    "\n",
    "app = dash.Dash()\n",
    "app.layout = html.Div([\n",
    "    dcc.Graph(figure=fig)\n",
    "])\n",
    "\n",
    "app.run_server(debug=True, use_reloader=False)"
   ]
  },
  {
   "cell_type": "code",
   "execution_count": null,
   "metadata": {},
   "outputs": [],
   "source": []
  }
 ],
 "metadata": {
  "kernelspec": {
   "display_name": "Python 3",
   "language": "python",
   "name": "python3"
  },
  "language_info": {
   "codemirror_mode": {
    "name": "ipython",
    "version": 3
   },
   "file_extension": ".py",
   "mimetype": "text/x-python",
   "name": "python",
   "nbconvert_exporter": "python",
   "pygments_lexer": "ipython3",
   "version": "3.7.6"
  }
 },
 "nbformat": 4,
 "nbformat_minor": 4
}
