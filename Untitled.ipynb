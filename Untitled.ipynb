{
 "cells": [
  {
   "cell_type": "code",
   "execution_count": null,
   "metadata": {},
   "outputs": [],
   "source": [
    "def do_calculation(number1, number2):\n",
    "    return number1 + number2\n",
    "\n",
    "number1 = float(input(\"Enter the first number: \"))\n",
    "number2 = float(input(\"Enter the second number: \"))\n",
    "solution = do_calculation(number1, number2)\n",
    "print(\"The sum of your numbers is {}\".format(solution))"
   ]
  },
  {
   "cell_type": "code",
   "execution_count": 7,
   "metadata": {},
   "outputs": [
    {
     "name": "stdout",
     "output_type": "stream",
     "text": [
      "Enter house number: 34\n",
      "Enter street name: fwa\n",
      "Enter city: sga\n",
      "Enter postcode: 324\n",
      "Your address is 34, fwa, sga, 324\n"
     ]
    }
   ],
   "source": [
    "def get_address(house_number, street_name, city, postcode):\n",
    "    return house_number + ', ' + street_name + ', ' + city + ', ' + postcode\n",
    "\n",
    "house_number = str(input('Enter house number: '))\n",
    "street_name = str(input('Enter street name: '))\n",
    "city = str(input('Enter city: '))\n",
    "postcode = str(input('Enter postcode: '))\n",
    "address = get_address(house_number, street_name, city, postcode)\n",
    "print('Your address is {}'.format(address))"
   ]
  },
  {
   "cell_type": "code",
   "execution_count": 3,
   "metadata": {},
   "outputs": [
    {
     "ename": "NameError",
     "evalue": "name 'string' is not defined",
     "output_type": "error",
     "traceback": [
      "\u001b[0;31m---------------------------------------------------------------------------\u001b[0m",
      "\u001b[0;31mNameError\u001b[0m                                 Traceback (most recent call last)",
      "\u001b[0;32m<ipython-input-3-25d14dbde81e>\u001b[0m in \u001b[0;36m<module>\u001b[0;34m\u001b[0m\n\u001b[0;32m----> 1\u001b[0;31m \u001b[0mstring\u001b[0m\u001b[0;34m(\u001b[0m\u001b[0mhouse_number\u001b[0m\u001b[0;34m,\u001b[0m \u001b[0mstreet_name\u001b[0m\u001b[0;34m,\u001b[0m \u001b[0mcity\u001b[0m\u001b[0;34m,\u001b[0m \u001b[0mpostcode\u001b[0m\u001b[0;34m)\u001b[0m\u001b[0;34m\u001b[0m\u001b[0;34m\u001b[0m\u001b[0m\n\u001b[0m",
      "\u001b[0;31mNameError\u001b[0m: name 'string' is not defined"
     ]
    }
   ],
   "source": [
    "string(house_number, street_name, city, postcode)"
   ]
  },
  {
   "cell_type": "code",
   "execution_count": 1,
   "metadata": {},
   "outputs": [],
   "source": [
    "#import libraries\n",
    "import pymongo\n",
    "import os\n",
    "import subprocess"
   ]
  },
  {
   "cell_type": "code",
   "execution_count": 2,
   "metadata": {},
   "outputs": [],
   "source": [
    "#specify paths or filenames\n",
    "file = ''\n",
    "path = ''"
   ]
  },
  {
   "cell_type": "code",
   "execution_count": null,
   "metadata": {},
   "outputs": [],
   "source": [
    "#Start the mongod process\n",
    "subprocess.run(\"systemctl start mongod\", shell=True, check=True)\n",
    "subprocess.run(\"systemctl status mongod\", shell=True, check=True)"
   ]
  },
  {
   "cell_type": "code",
   "execution_count": 8,
   "metadata": {},
   "outputs": [
    {
     "data": {
      "text/plain": [
       "'loc_2d'"
      ]
     },
     "execution_count": 8,
     "metadata": {},
     "output_type": "execute_result"
    }
   ],
   "source": [
    "#import geospatial indexing\n",
    "from pymongo import MongoClient, GEO2D\n",
    "\n",
    "#Create database\n",
    "db = MongoClient(\"mongodb://localhost:27017/\").geo_example\n",
    "db.places.create_index([(\"loc\", GEO2D)])"
   ]
  },
  {
   "cell_type": "code",
   "execution_count": 20,
   "metadata": {},
   "outputs": [
    {
     "name": "stderr",
     "output_type": "stream",
     "text": [
      "/home/becode/ipykernel/ipykernel_launcher.py:1: DeprecationWarning: current_op() is deprecated. See the documentation for more information\n",
      "  \"\"\"Entry point for launching an IPython kernel.\n"
     ]
    },
    {
     "data": {
      "text/plain": [
       "{'inprog': [{'type': 'op',\n",
       "   'host': 'becode-HP-EliteBook-840-G1:27017',\n",
       "   'desc': 'conn2',\n",
       "   'connectionId': 2,\n",
       "   'client': '127.0.0.1:38644',\n",
       "   'clientMetadata': {'driver': {'name': 'PyMongo', 'version': '3.9.0'},\n",
       "    'os': {'type': 'Linux',\n",
       "     'name': 'Linux',\n",
       "     'architecture': 'x86_64',\n",
       "     'version': '5.4.0-42-generic'},\n",
       "    'platform': 'CPython 3.7.6.final.0'},\n",
       "   'active': True,\n",
       "   'currentOpTime': '2020-07-26T09:13:37.205+0200',\n",
       "   'opid': 68053,\n",
       "   'lsid': {'id': UUID('c83660c0-808e-4448-9948-5546f39afee2'),\n",
       "    'uid': b\"\\xe3\\xb0\\xc4B\\x98\\xfc\\x1c\\x14\\x9a\\xfb\\xf4\\xc8\\x99o\\xb9$'\\xaeA\\xe4d\\x9b\\x93L\\xa4\\x95\\x99\\x1bxR\\xb8U\"},\n",
       "   'secs_running': 0,\n",
       "   'microsecs_running': 526,\n",
       "   'op': 'command',\n",
       "   'ns': 'admin.$cmd.aggregate',\n",
       "   'command': {'currentOp': 1,\n",
       "    '$all': False,\n",
       "    'lsid': {'id': UUID('c83660c0-808e-4448-9948-5546f39afee2')},\n",
       "    '$db': 'admin',\n",
       "    '$readPreference': {'mode': 'primary'}},\n",
       "   'numYields': 0,\n",
       "   'locks': {},\n",
       "   'waitingForLock': False,\n",
       "   'lockStats': {},\n",
       "   'waitingForFlowControl': False,\n",
       "   'flowControlStats': {}},\n",
       "  {'type': 'op',\n",
       "   'host': 'becode-HP-EliteBook-840-G1:27017',\n",
       "   'desc': 'waitForMajority',\n",
       "   'active': True,\n",
       "   'currentOpTime': '2020-07-26T09:13:37.205+0200',\n",
       "   'opid': 2,\n",
       "   'op': 'none',\n",
       "   'ns': '',\n",
       "   'command': {},\n",
       "   'numYields': 0,\n",
       "   'waitingForLatch': {'timestamp': datetime.datetime(2020, 7, 25, 12, 52, 15, 770000),\n",
       "    'captureName': 'WaitForMaorityService::_mutex'},\n",
       "   'locks': {},\n",
       "   'waitingForLock': False,\n",
       "   'lockStats': {},\n",
       "   'waitingForFlowControl': False,\n",
       "   'flowControlStats': {}}],\n",
       " 'ok': 1.0}"
      ]
     },
     "execution_count": 20,
     "metadata": {},
     "output_type": "execute_result"
    }
   ],
   "source": [
    "db.current_op\n"
   ]
  },
  {
   "cell_type": "code",
   "execution_count": 10,
   "metadata": {},
   "outputs": [
    {
     "name": "stdout",
     "output_type": "stream",
     "text": [
      "['_BaseObject__codec_options', '_BaseObject__read_concern', '_BaseObject__read_preference', '_BaseObject__write_concern', '_Database__client', '_Database__incoming_copying_manipulators', '_Database__incoming_manipulators', '_Database__name', '_Database__outgoing_copying_manipulators', '_Database__outgoing_manipulators', '__call__', '__class__', '__delattr__', '__dict__', '__dir__', '__doc__', '__eq__', '__format__', '__ge__', '__getattr__', '__getattribute__', '__getitem__', '__gt__', '__hash__', '__init__', '__init_subclass__', '__iter__', '__le__', '__lt__', '__module__', '__ne__', '__new__', '__next__', '__reduce__', '__reduce_ex__', '__repr__', '__setattr__', '__sizeof__', '__str__', '__subclasshook__', '__weakref__', '_apply_incoming_copying_manipulators', '_apply_incoming_manipulators', '_command', '_create_or_update_user', '_current_op', '_default_role', '_fix_incoming', '_fix_outgoing', '_list_collections', '_read_preference_for', '_retryable_read_command', '_write_concern_for', 'add_son_manipulator', 'add_user', 'aggregate', 'authenticate', 'client', 'codec_options', 'collection_names', 'command', 'create_collection', 'current_op', 'dereference', 'drop_collection', 'error', 'eval', 'get_collection', 'incoming_copying_manipulators', 'incoming_manipulators', 'last_status', 'list_collection_names', 'list_collections', 'logout', 'name', 'next', 'outgoing_copying_manipulators', 'outgoing_manipulators', 'previous_error', 'profiling_info', 'profiling_level', 'read_concern', 'read_preference', 'remove_user', 'reset_error_history', 'set_profiling_level', 'system_js', 'validate_collection', 'watch', 'with_options', 'write_concern']\n"
     ]
    }
   ],
   "source": [
    "print(dir(db))\n",
    "'''\n",
    "'add_son_manipulator', 'add_user', 'aggregate',\n",
    "'authenticate', 'client', 'codec_options', 'collection_names',\n",
    "'command', 'create_collection', 'current_op', 'dereference',\n",
    "'drop_collection', 'error', 'eval', 'get_collection',\n",
    "'incoming_copying_manipulators', 'incoming_manipulators',\n",
    "'last_status', 'list_collection_names', 'list_collections',\n",
    "'logout', 'name', 'next', 'outgoing_copying_manipulators',\n",
    "'outgoing_manipulators', 'previous_error', 'profiling_info',\n",
    "'profiling_level', 'read_concern', 'read_preference', 'remove_user',\n",
    "'reset_error_history', 'set_profiling_level', 'system_js',\n",
    "'validate_collection', 'watch', 'with_options', 'write_concern']\n",
    "'''"
   ]
  },
  {
   "cell_type": "code",
   "execution_count": null,
   "metadata": {},
   "outputs": [],
   "source": [
    "#Create collection containing boundary boxes of raster files\n"
   ]
  },
  {
   "cell_type": "code",
   "execution_count": 4,
   "metadata": {},
   "outputs": [
    {
     "data": {
      "text/plain": [
       "Database(MongoClient(host=['localhost:27017'], document_class=dict, tz_aware=False, connect=True), 'geo_example')"
      ]
     },
     "execution_count": 4,
     "metadata": {},
     "output_type": "execute_result"
    }
   ],
   "source": [
    "#Query which doc/raster contains the box\n",
    "#Lower-left x, y and upper-right x, y coordinates):\n",
    "\n",
    "query = {\"loc\": {\"$within\": {\"$box\": [[2, 2], [5, 6]]}}}\n",
    "\n",
    "\n",
    "for doc in db.places.find(query).sort('_id'):\n",
    "    pprint.pprint(doc)\n",
    "    {u'_id': ObjectId('...'), u'loc': [2, 5]}\n",
    "    {u'_id': ObjectId('...'), u'loc': [4, 4]}"
   ]
  },
  {
   "cell_type": "code",
   "execution_count": null,
   "metadata": {},
   "outputs": [],
   "source": [
    "\n",
    "myclient = pymongo.MongoClient(\"mongodb://localhost:27017/\")\n",
    "\n",
    "mydb = myclient[\"mydatabase\"]"
   ]
  },
  {
   "cell_type": "code",
   "execution_count": null,
   "metadata": {},
   "outputs": [],
   "source": [
    "from pymongo import MongoClient\n",
    "client = MongoClient('mongodb://localhost:27017/')\n",
    "db = client.test_database\n",
    "collection = db.test_collection\n",
    "\n",
    "import datetime\n",
    "post = {\"author\": \"Mike\",\n",
    "        \"text\": \"My first blog post!\",\n",
    "        \"tags\": [\"mongodb\", \"python\", \"pymongo\"],\n",
    "        \"date\": datetime.datetime.utcnow()}\n",
    "\n",
    "posts = db.posts\n",
    "post_id = posts.insert_one(post).inserted_id\n",
    "post_id\n",
    "\n",
    "db.list_collection_names()"
   ]
  }
 ],
 "metadata": {
  "kernelspec": {
   "display_name": "flask-venv",
   "language": "python",
   "name": "flask-venv"
  },
  "language_info": {
   "codemirror_mode": {
    "name": "ipython",
    "version": 3
   },
   "file_extension": ".py",
   "mimetype": "text/x-python",
   "name": "python",
   "nbconvert_exporter": "python",
   "pygments_lexer": "ipython3",
   "version": "3.7.6"
  }
 },
 "nbformat": 4,
 "nbformat_minor": 4
}
