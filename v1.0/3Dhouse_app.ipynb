{
 "cells": [
  {
   "cell_type": "code",
   "execution_count": 8,
   "metadata": {},
   "outputs": [
    {
     "name": "stdout",
     "output_type": "stream",
     "text": [
      " * Serving Flask app \"__main__\" (lazy loading)\n",
      " * Environment: production\n",
      "\u001b[31m   WARNING: This is a development server. Do not use it in a production deployment.\u001b[0m\n",
      "\u001b[2m   Use a production WSGI server instead.\u001b[0m\n",
      " * Debug mode: on\n"
     ]
    },
    {
     "name": "stderr",
     "output_type": "stream",
     "text": [
      " * Running on http://0.0.0.0:5000/ (Press CTRL+C to quit)\n",
      " * Restarting with stat\n"
     ]
    },
    {
     "ename": "SystemExit",
     "evalue": "1",
     "output_type": "error",
     "traceback": [
      "An exception has occurred, use %tb to see the full traceback.\n",
      "\u001b[0;31mSystemExit\u001b[0m\u001b[0;31m:\u001b[0m 1\n"
     ]
    },
    {
     "name": "stderr",
     "output_type": "stream",
     "text": [
      "/home/becode/dr-robin/3D_houses/venv/lib/python3.7/site-packages/IPython/core/interactiveshell.py:3351: UserWarning: To exit: use 'exit', 'quit', or Ctrl-D.\n",
      "  warn(\"To exit: use 'exit', 'quit', or Ctrl-D.\", stacklevel=1)\n"
     ]
    }
   ],
   "source": [
    "from flask import Flask\n",
    "from flask import Flask, request, render_template_string\n",
    "import make3dh\n",
    "\n",
    "app = Flask(__name__)\n",
    "app.config[\"TEMPLATES_AUTO_RELOAD\"] = True\n",
    "    \n",
    "@app.route('/', methods=['GET','POST'])\n",
    "def index():\n",
    "    if request.method == 'POST':\n",
    "        house_number = request.form.get('house_number')\n",
    "        street_name = request.form.get('street_name')\n",
    "        city = request.form.get('city')\n",
    "        postcode = request.form.get('postcode')\n",
    "\n",
    "        #need to delete return\n",
    "        #return '''<h1>The house number is: {}</h1>\n",
    "         #   <h1>The street is: {}</h1>\n",
    "          #  <h1>The city is: {}</h1>\n",
    "           # <h1>The postcode is: {}</h1>\n",
    "            #'''.format(house_number, street_name, city, postcode)\n",
    "        \n",
    "        #try build 3D house function here\n",
    "        try:\n",
    "            make_house()\n",
    "            \n",
    "        except IndexError:\n",
    "            print(\"Please enter an address in Flanders\")\n",
    "            \n",
    "        except:\n",
    "            print(\"Please try again\")\n",
    "            \n",
    "            exit()\n",
    "    #else return empty form variables\n",
    "        #else:\n",
    "         #   house_number = ''\n",
    "          #  street_name = ''\n",
    "           # city = ''\n",
    "            #postcode = ''\n",
    "\n",
    "    #Landing page with user address form\n",
    "    return '''\n",
    "    <!DOCTYPE html>\n",
    "    <html lang=\"en\">\n",
    "    <head>\n",
    "    <title>3D house builder</title>\n",
    "    <meta charset=\"utf-8\">\n",
    "    <meta name=\"viewport\" content=\"width=device-width, initial-scale=1\">\n",
    "    <link rel=\"stylesheet\" href=\"https://maxcdn.bootstrapcdn.com/bootstrap/3.4.1/css/bootstrap.min.css\">\n",
    "    </head>\n",
    "    <body>\n",
    "    <div class=\"container\">\n",
    "    <img src=\"./house.svg\" alt=\"house\"> \n",
    "    </div>\n",
    "    <div class=\"container-fluid\">\n",
    "    <div class=\"jumbotron\">\n",
    "    <h1>3D house builder</h1>\n",
    "    </div>\n",
    "    <div class=\"container-fluid\">\n",
    "    <h4>This little app can build a 3D representation of any address in Flanders</h4>\n",
    "    <p>Enter address</p>\n",
    "    <form method='POST'>\n",
    "    <input type='number' name='house_number'/>\n",
    "    <input type='text' name='street_name'/>\n",
    "    <input type='text' name='city'/>\n",
    "    <input type='number' name='postcode'/>\n",
    "    <input type='submit' value='Submit'/>\n",
    "    </p>\n",
    "    </form>\n",
    "    </div>\n",
    "    </body>\n",
    "    </html>'''\n",
    "\n",
    "if __name__ == '__main__':\n",
    "    app.run(debug=True, host='0.0.0.0')\n",
    "    \n",
    "# <script src=\"https://ajax.googleapis.com/ajax/libs/jquery/3.5.1/jquery.min.js\"></script>\n",
    "# <script src=\"https://maxcdn.bootstrapcdn.com/bootstrap/3.4.1/js/bootstrap.min.js\"></script>\n",
    "#use for warnings <div class=\"alert alert-danger\">"
   ]
  },
  {
   "cell_type": "code",
   "execution_count": null,
   "metadata": {},
   "outputs": [],
   "source": []
  }
 ],
 "metadata": {
  "anaconda-cloud": {},
  "kernelspec": {
   "display_name": "venv",
   "language": "python",
   "name": "venv"
  },
  "language_info": {
   "codemirror_mode": {
    "name": "ipython",
    "version": 3
   },
   "file_extension": ".py",
   "mimetype": "text/x-python",
   "name": "python",
   "nbconvert_exporter": "python",
   "pygments_lexer": "ipython3",
   "version": "3.7.6"
  }
 },
 "nbformat": 4,
 "nbformat_minor": 4
}
